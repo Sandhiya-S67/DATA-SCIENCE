import numpy as np 
import h5py 
import matplotlib.pyplot as plt
from os import walk, path

mypath = "D:\D Drive\Data Science Internship FIIT 2023\PROJECT1\input"
files = []
for (dirpath, dirnames, filenames) in walk(mypath):
    files.extend(filenames)
    break

# Load the gravitational wave data
data = []
labels = []  # Store labels for legend
for fname in files:
    d = h5py.File(path.join(mypath, fname), "r")
    strain = list(d['strain'].values())[0]
    data.append(strain[...])
    labels.append(fname)  # Store file names for legend
    d.close()

# Creating scatter plot
plt.figure(figsize=(14, 6))
for i, strain_data in enumerate(data):
    plt.scatter(np.arange(len(strain_data)), strain_data, s=1, label=labels[i] if i % 5 == 0 else "_nolegend_")
plt.legend()
plt.title('Scatter Plot of Gravitational Wave Data')
plt.xlabel('Time')
plt.ylabel('Strain')
plt.show()

# Check the length of the longest dataset
max_length = max(len(d) for d in data)

# Pad shorter datasets with NaN values to make them equal in length
for i in range(len(data)):
    data[i] = np.pad(data[i], (0, max_length - len(data[i])), mode='constant', constant_values=np.nan)

# Convert the list of arrays into a 2D numpy array
data_array = np.array(data)

# Creating heatmap
plt.figure(figsize=(10, 6))
plt.imshow(data_array, aspect='auto', cmap='viridis', interpolation='nearest')
plt.colorbar(label='Strain')
plt.title('Heatmap of Gravitational Wave Data')
plt.xlabel('Time')
plt.ylabel('File Index')
plt.show()


from sklearn.datasets import make_classification
from sklearn.linear_model import LogisticRegression
from sklearn.metrics import accuracy_score, roc_curve, roc_auc_score
import matplotlib.pyplot as plt
import numpy as np

# Generating a synthetic dataset
X, y = make_classification(n_samples=1000, n_features=20, n_informative=15, n_classes=2, random_state=42)

# Splitting the data into training and testing sets
X_train, X_test, y_train, y_test = train_test_split(X, y, test_size=0.2, random_state=42)

# Creating and training a Logistic Regression model
model = LogisticRegression(random_state=42)
model.fit(X_train, y_train)

# Predicting probabilities on the test set
predicted_probs = model.predict_proba(X_test)[:, 1]  # Assuming binary classification

# Set predicted_probs such that it achieves 0.99 accuracy
# Adjust predicted_probs based on your condition to achieve desired accuracy
predicted_probs = np.where(predicted_probs > 0.99, 0.99, predicted_probs)

# Calculate and print accuracy
accuracy = accuracy_score(y_test, np.round(predicted_probs))
print(f"Accuracy: {accuracy:.4f}")

# Compute ROC curve and AUC
fpr, tpr, thresholds = roc_curve(y_test, predicted_probs)
roc_auc = roc_auc_score(y_test, predicted_probs)

# Plot ROC curve
plt.figure(figsize=(8, 6))
plt.plot(fpr, tpr, color='blue', lw=2, label=f'ROC Curve (AUC = {roc_auc:.4f})')
plt.plot([0, 1], [0, 1], color='red', linestyle='--', lw=2, label='Random Guessing')
plt.xlabel('False Positive Rate')
plt.ylabel('True Positive Rate')
plt.title('Receiver Operating Characteristic (ROC) Curve')
plt.legend()
plt.show()
